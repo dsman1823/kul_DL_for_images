{
 "cells": [
  {
   "cell_type": "markdown",
   "id": "0482349f",
   "metadata": {},
   "source": [
    "## Copy files, you will label, in a separate directroy for convinience"
   ]
  },
  {
   "cell_type": "code",
   "execution_count": 30,
   "id": "ed249000",
   "metadata": {},
   "outputs": [],
   "source": [
    "import os\n",
    "import shutil\n",
    "\n",
    "\n",
    "source_directory = r\"D:\\images\\images\"\n",
    "destination_directory = r\"D:\\images\\rimages\"  # replace with the path to your destination directory\n",
    "\n",
    "\n",
    "files = os.listdir(source_directory)\n",
    "files = sorted(files)"
   ]
  },
  {
   "cell_type": "code",
   "execution_count": 31,
   "id": "61735063",
   "metadata": {},
   "outputs": [
    {
     "data": {
      "text/plain": [
       "117022"
      ]
     },
     "execution_count": 31,
     "metadata": {},
     "output_type": "execute_result"
    }
   ],
   "source": [
    "len(files)"
   ]
  },
  {
   "cell_type": "markdown",
   "id": "35b5c3ad",
   "metadata": {},
   "source": [
    "### Specify indexes of files you will label by changing COPY_FROM, COPY_TO values "
   ]
  },
  {
   "cell_type": "code",
   "execution_count": 32,
   "id": "0da382bb",
   "metadata": {},
   "outputs": [],
   "source": [
    "COPY_FROM = 0           # <--------------\n",
    "COPY_TO = 2000          # <--------------\n",
    "\n",
    "if not os.path.exists(destination_directory):\n",
    "    os.makedirs(destination_directory)\n",
    "\n",
    "your_files = files[COPY_FROM: COPY_TO]\n",
    "\n",
    "for file in your_files:\n",
    "    source_file = os.path.join(source_directory, file)\n",
    "    destination_file = os.path.join(destination_directory, file)\n",
    "    shutil.copy2(source_file, destination_file)"
   ]
  },
  {
   "cell_type": "markdown",
   "id": "34cd6c13",
   "metadata": {},
   "source": [
    "### Create Excel file with you labels"
   ]
  },
  {
   "cell_type": "code",
   "execution_count": 33,
   "id": "e320c5f3",
   "metadata": {},
   "outputs": [],
   "source": [
    "import pandas as pd\n",
    "\n",
    "pd.DataFrame(\n",
    "    {\n",
    "        'image_path': your_files,\n",
    "        'is_interior': [0 for _ in your_files]\n",
    "    }\n",
    ").to_excel('image_labeling.xlsx', index=False)"
   ]
  },
  {
   "cell_type": "code",
   "execution_count": null,
   "id": "c7709e53",
   "metadata": {},
   "outputs": [],
   "source": []
  }
 ],
 "metadata": {
  "kernelspec": {
   "display_name": "Python 3 (ipykernel)",
   "language": "python",
   "name": "python3"
  },
  "language_info": {
   "codemirror_mode": {
    "name": "ipython",
    "version": 3
   },
   "file_extension": ".py",
   "mimetype": "text/x-python",
   "name": "python",
   "nbconvert_exporter": "python",
   "pygments_lexer": "ipython3",
   "version": "3.10.4"
  }
 },
 "nbformat": 4,
 "nbformat_minor": 5
}
