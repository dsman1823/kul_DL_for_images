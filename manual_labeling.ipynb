{
 "cells": [
  {
   "cell_type": "markdown",
   "id": "0482349f",
   "metadata": {},
   "source": [
    "## Copy files, you will label, in a separate directroy for convinience"
   ]
  },
  {
   "cell_type": "code",
   "execution_count": 103,
   "id": "ed249000",
   "metadata": {},
   "outputs": [],
   "source": [
    "import os\n",
    "import shutil\n",
    "\n",
    "\n",
    "source_directory = r\"D:\\images\\images\"\n",
    "destination_directory = r\"D:\\images\\rimages\"  # replace with the path to your destination directory\n",
    "\n",
    "\n",
    "files = os.listdir(source_directory)\n",
    "files = sorted(files)"
   ]
  },
  {
   "cell_type": "code",
   "execution_count": 104,
   "id": "61735063",
   "metadata": {},
   "outputs": [
    {
     "data": {
      "text/plain": [
       "117022"
      ]
     },
     "execution_count": 104,
     "metadata": {},
     "output_type": "execute_result"
    }
   ],
   "source": [
    "len(files)"
   ]
  },
  {
   "cell_type": "markdown",
   "id": "35b5c3ad",
   "metadata": {},
   "source": [
    "### Specify indexes of files you will label by changing COPY_FROM, COPY_TO values "
   ]
  },
  {
   "cell_type": "code",
   "execution_count": 105,
   "id": "0da382bb",
   "metadata": {},
   "outputs": [],
   "source": [
    "COPY_FROM = 0           # <--------------\n",
    "COPY_TO = 2000          # <--------------\n",
    "\n",
    "if not os.path.exists(destination_directory):\n",
    "    os.makedirs(destination_directory)\n",
    "\n",
    "your_files = files[COPY_FROM: COPY_TO]\n",
    "\n",
    "for file in your_files:\n",
    "    source_file = os.path.join(source_directory, file)\n",
    "    destination_file = os.path.join(destination_directory, file)\n",
    "    shutil.copy2(source_file, destination_file)"
   ]
  },
  {
   "cell_type": "markdown",
   "id": "34cd6c13",
   "metadata": {},
   "source": [
    "### Create Excel file with you labels"
   ]
  },
  {
   "cell_type": "code",
   "execution_count": null,
   "id": "e320c5f3",
   "metadata": {},
   "outputs": [],
   "source": [
    "import pandas as pd\n",
    "\n",
    "labeling_file = 'image_labeling.xlsx'\n",
    "\n",
    "pd.DataFrame(\n",
    "    {\n",
    "        'image_path': your_files,\n",
    "        'is_interior': [0 for _ in your_files]\n",
    "    }\n",
    ").to_excel('image_labeling.xlsx', index=False)"
   ]
  },
  {
   "cell_type": "code",
   "execution_count": 107,
   "id": "c7709e53",
   "metadata": {},
   "outputs": [],
   "source": [
    "labels = pd.read_excel(labeling_file)\n"
   ]
  },
  {
   "cell_type": "code",
   "execution_count": 108,
   "id": "40af2810",
   "metadata": {},
   "outputs": [
    {
     "data": {
      "text/plain": [
       "0    1408\n",
       "1     592\n",
       "Name: is_interior, dtype: int64"
      ]
     },
     "execution_count": 108,
     "metadata": {},
     "output_type": "execute_result"
    }
   ],
   "source": [
    "labels['is_interior'].value_counts()"
   ]
  },
  {
   "cell_type": "markdown",
   "id": "3be4a5d6",
   "metadata": {},
   "source": [
    "### Train test split (stratified)"
   ]
  },
  {
   "cell_type": "code",
   "execution_count": 109,
   "id": "ab161044",
   "metadata": {},
   "outputs": [],
   "source": [
    "import math\n",
    "\n",
    "train_size_food = math.ceil(.75 * len(labels[labels['is_interior'] == 0]))\n",
    "train_size_interior = math.ceil(.75 * len(labels[labels['is_interior'] == 1]))\n",
    "\n",
    "train_food_file_paths = labels[labels['is_interior'] == 0].head(train_size_food)['image_path']\n",
    "test_food_file_paths = list(\n",
    "    set(labels[labels['is_interior'] == 0]['image_path']) - \n",
    "    set(train_food_file_paths)\n",
    ")\n",
    "\n",
    "\n",
    "train_interior_file_paths = labels[labels['is_interior'] == 1].head(train_size_interior)['image_path']\n",
    "test_interior_file_paths = list(\n",
    "    set(labels[labels['is_interior'] == 1]['image_path']) - \n",
    "    set(train_interior_file_paths)\n",
    ")"
   ]
  },
  {
   "cell_type": "code",
   "execution_count": 110,
   "id": "c0eb0440",
   "metadata": {
    "scrolled": true
   },
   "outputs": [
    {
     "data": {
      "text/plain": [
       "2000"
      ]
     },
     "execution_count": 110,
     "metadata": {},
     "output_type": "execute_result"
    }
   ],
   "source": [
    "len(train_food_file_paths) + len(test_food_file_paths) + len(train_interior_file_paths) + len(test_interior_file_paths)"
   ]
  },
  {
   "cell_type": "code",
   "execution_count": 115,
   "id": "40d841f4",
   "metadata": {},
   "outputs": [],
   "source": [
    "data_directory = r\"D:\\labeled_images\"            # <----------- Directory where your train test data will be stored\n",
    "if not os.path.exists(destination_directory):\n",
    "    os.makedirs(destination_directory)\n",
    "    \n",
    "\n",
    "train_food_dir = os.path.join(data_directory, 'train', 'food')\n",
    "test_food_dir = os.path.join(data_directory, 'test', 'food')\n",
    "\n",
    "train_interior_dir = os.path.join(data_directory, 'train', 'interior')\n",
    "test_interior_dir = os.path.join(data_directory, 'test', 'interior')\n",
    "\n",
    "\n",
    "for directory in [train_food_dir, test_food_dir, train_interior_dir, test_interior_dir]:\n",
    "    if not os.path.exists(directory):\n",
    "        os.makedirs(directory)\n",
    "        \n",
    "file_map = {\n",
    "    train_food_dir: train_food_file_paths,\n",
    "    test_food_dir: test_food_file_paths,\n",
    "    train_interior_dir: train_interior_file_paths,\n",
    "    test_interior_dir: test_interior_file_paths\n",
    "}\n",
    "\n",
    "\n",
    "for image_class_dir, file_paths in file_map.items():\n",
    "    for file in file_paths:\n",
    "        source_file = os.path.join(source_directory, file)\n",
    "        destination_file = os.path.join(image_class_dir, file)\n",
    "        shutil.copy2(source_file, destination_file)"
   ]
  },
  {
   "cell_type": "code",
   "execution_count": null,
   "id": "c8af6798",
   "metadata": {},
   "outputs": [],
   "source": []
  }
 ],
 "metadata": {
  "kernelspec": {
   "display_name": "Python 3 (ipykernel)",
   "language": "python",
   "name": "python3"
  },
  "language_info": {
   "codemirror_mode": {
    "name": "ipython",
    "version": 3
   },
   "file_extension": ".py",
   "mimetype": "text/x-python",
   "name": "python",
   "nbconvert_exporter": "python",
   "pygments_lexer": "ipython3",
   "version": "3.10.4"
  }
 },
 "nbformat": 4,
 "nbformat_minor": 5
}
